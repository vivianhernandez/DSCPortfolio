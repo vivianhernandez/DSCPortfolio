{
 "cells": [
  {
   "cell_type": "markdown",
   "metadata": {},
   "source": [
    "## Weather Generator \n",
    "Name: Vivian Hernandez\n",
    "Date: August 10, 2019\n",
    "Assignment: 10.2"
   ]
  },
  {
   "cell_type": "code",
   "execution_count": 1,
   "metadata": {
    "collapsed": true
   },
   "outputs": [
    {
     "name": "stdout",
     "output_type": "stream",
     "text": [
      "Requirement already satisfied: pytemperature in /Users/vivianhernandez/anaconda3/lib/python3.7/site-packages (1.0)\n",
      "\u001b[33mWARNING: You are using pip version 19.3.1; however, version 20.1.1 is available.\n",
      "You should consider upgrading via the 'pip install --upgrade pip' command.\u001b[0m\n",
      "Note: you may need to restart the kernel to use updated packages.\n"
     ]
    }
   ],
   "source": [
    "pip install pytemperature"
   ]
  },
  {
   "cell_type": "code",
   "execution_count": 2,
   "metadata": {},
   "outputs": [
    {
     "name": "stdout",
     "output_type": "stream",
     "text": [
      "Requirement already satisfied: requests in /Users/vivianhernandez/anaconda3/lib/python3.7/site-packages (2.22.0)\n",
      "Requirement already satisfied: certifi>=2017.4.17 in /Users/vivianhernandez/anaconda3/lib/python3.7/site-packages (from requests) (2019.6.16)\n",
      "Requirement already satisfied: chardet<3.1.0,>=3.0.2 in /Users/vivianhernandez/anaconda3/lib/python3.7/site-packages (from requests) (3.0.4)\n",
      "Requirement already satisfied: urllib3!=1.25.0,!=1.25.1,<1.26,>=1.21.1 in /Users/vivianhernandez/anaconda3/lib/python3.7/site-packages (from requests) (1.24.2)\n",
      "Requirement already satisfied: idna<2.9,>=2.5 in /Users/vivianhernandez/anaconda3/lib/python3.7/site-packages (from requests) (2.8)\n",
      "\u001b[33mWARNING: You are using pip version 19.3.1; however, version 20.1.1 is available.\n",
      "You should consider upgrading via the 'pip install --upgrade pip' command.\u001b[0m\n",
      "Note: you may need to restart the kernel to use updated packages.\n"
     ]
    }
   ],
   "source": [
    "pip install requests"
   ]
  },
  {
   "cell_type": "code",
   "execution_count": 3,
   "metadata": {},
   "outputs": [
    {
     "name": "stdout",
     "output_type": "stream",
     "text": [
      "ERROR: unknown command \"intall\" - maybe you meant \"install\"\n",
      "Note: you may need to restart the kernel to use updated packages.\n"
     ]
    }
   ],
   "source": [
    "pip intall json"
   ]
  },
  {
   "cell_type": "code",
   "execution_count": null,
   "metadata": {},
   "outputs": [
    {
     "name": "stdout",
     "output_type": "stream",
     "text": [
      "Welcome to the weather generator!\n",
      "Would you like to lookup weather data by zipcode or city or would you like to exit? \n",
      "Enter 1 for zipcode, 2 for city or exit to end the program:1\n",
      "Enter a zip:11232\n",
      "Current Weather Conditions for zip code:11232 \n",
      "Current Temp: 61.41 degress \n",
      "High Temp: 64.97 degrees \n",
      "Low Temp: 56.98 degrees \n",
      "Humidity:68%\n",
      "{'coord': {'lon': -74, 'lat': 40.65}, 'weather': [{'id': 800, 'main': 'Clear', 'description': 'clear sky', 'icon': '01d'}], 'base': 'stations', 'main': {'temp': 289.5, 'feels_like': 285.67, 'temp_min': 287.04, 'temp_max': 291.48, 'pressure': 1029, 'humidity': 68}, 'visibility': 16093, 'wind': {'speed': 5.7, 'deg': 30}, 'clouds': {'all': 1}, 'dt': 1592219220, 'sys': {'type': 1, 'id': 4610, 'country': 'US', 'sunrise': 1592213072, 'sunset': 1592267326}, 'timezone': -14400, 'id': 0, 'name': 'Brooklyn', 'cod': 200}\n"
     ]
    }
   ],
   "source": [
    "#Use the Requests library in order to request data from the webservice.\n",
    "import requests\n",
    "import json\n",
    "import pytemperature\n",
    "\n",
    "#my api is api= b02a8879553b58136bcdb290b8c5e0cb\n",
    "\n",
    "print('Welcome to the weather generator!')\n",
    "\n",
    "#weathertype() is the main function of this program. It determines if the program will run zip, city or exit. This allows the user to run the program multiple times to allow them to look up weather conditions for multiple locations.\n",
    "def weathertype():\n",
    "    #Create a Python Application which asks the user for their zip code or city.\n",
    "    user_type= input(\"Would you like to lookup weather data by zipcode or city or would you like to exit? \\nEnter 1 for zipcode, 2 for city or exit to end the program:\")\n",
    "    if user_type == \"1\":\n",
    "        zipdata()\n",
    "        weathertype()\n",
    "    elif user_type == \"2\":\n",
    "        citydata()\n",
    "        weathertype()\n",
    "    #This closes out the main function and ends the program.\n",
    "    elif user_type ==\"exit\":\n",
    "        print(\"Thank you for using this program\")\n",
    "        exit()\n",
    "    #Validate whether the user entered valid data. If valid data isn’t presented notify the user.\n",
    "    else:\n",
    "        print(\"Please try again. Next time enter 1, 2 or exit. \")\n",
    "        weathertype()\n",
    "\n",
    "#Use the zip code or city name in order to obtain weather forecast data from OpenWeatherMap.\n",
    "#Use functions including a main function.\n",
    "def zipdata():\n",
    "    userzip= input(\"Enter a zip:\")\n",
    "    #Use Try blocks to ensure that your request was successful. If the connection was not successful display a message to the user.\n",
    "    try:\n",
    "        url = \"http://api.openweathermap.org/data/2.5/weather\"\n",
    "        querystring = {\"zip\":userzip,\n",
    "                       \"APPID\":\"b02a8879553b58136bcdb290b8c5e0cb\"}\n",
    "        headers={'cache-control': 'no-cache'}\n",
    "        response = requests.request(\"GET\", url, headers = headers, params = querystring)\n",
    "        weather =json.loads(response.text)\n",
    "        #Display the weather forecast in a readable format to the user. Not everything is printed. Just the temperature and humidity.\n",
    "        print ('Current Weather Conditions for zip code:{} \\nCurrent Temp: {} degress \\nHigh Temp: {} degrees \\nLow Temp: {} degrees \\nHumidity:{}%'.format(userzip, pytemperature.k2f(weather['main']['temp']) , pytemperature.k2f(weather['main']['temp_max']), pytemperature.k2f(weather['main']['temp_min']), weather['main']['humidity']))\n",
    "        print(weather)\n",
    "    #Validate whether the user entered valid data. If valid data isn’t presented notify the user.\n",
    "    except KeyError:\n",
    "        print('try again')\n",
    "        weathertype()\n",
    "#Use the zip code or city name in order to obtain weather forecast data from OpenWeatherMap.\n",
    "#Use functions including a main function.\n",
    "def citydata():\n",
    "    usercity= input(\"Enter a city:\")\n",
    "    #Use Try blocks to ensure that your request was successful. If the connection was not successful display a message to the user.\n",
    "    try:\n",
    "        url = \"http://api.openweathermap.org/data/2.5/weather\"\n",
    "        querystring = {\"q\":usercity,\n",
    "                       \"APPID\":\"b02a8879553b58136bcdb290b8c5e0cb\"}\n",
    "        headers={'cache-control': 'no-cache'}\n",
    "        response = requests.request(\"GET\", url, headers = headers, params = querystring)\n",
    "        weather =json.loads(response.text)\n",
    "        #Display the weather forecast in a readable format to the user.\n",
    "        print('Current Weather Conditions for {} \\nCurrent Temp: {} degress \\nHigh Temp: {} degrees \\nLow Temp: {} degrees \\nHumidity:{}%'.format(usercity, pytemperature.k2f(weather['main']['temp']) , pytemperature.k2f(weather['main']['temp_max']), pytemperature.k2f(weather['main']['temp_min']), weather['main']['humidity']))\n",
    "    #Validate whether the user entered valid data. If valid data isn’t presented notify the user.\n",
    "    except KeyError:\n",
    "        print('try again')\n",
    "        weathertype()\n",
    "\n",
    "#The program has 3 functions. The line below calls the main function.\n",
    "weathertype()\n"
   ]
  },
  {
   "cell_type": "code",
   "execution_count": null,
   "metadata": {},
   "outputs": [],
   "source": []
  }
 ],
 "metadata": {
  "kernelspec": {
   "display_name": "Python 3",
   "language": "python",
   "name": "python3"
  },
  "language_info": {
   "codemirror_mode": {
    "name": "ipython",
    "version": 3
   },
   "file_extension": ".py",
   "mimetype": "text/x-python",
   "name": "python",
   "nbconvert_exporter": "python",
   "pygments_lexer": "ipython3",
   "version": "3.7.3"
  }
 },
 "nbformat": 4,
 "nbformat_minor": 2
}
