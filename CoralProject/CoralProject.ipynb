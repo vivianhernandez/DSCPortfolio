{
 "cells": [
  {
   "cell_type": "code",
   "execution_count": 1,
   "metadata": {},
   "outputs": [],
   "source": [
    "import pandas as pd\n",
    "import numpy as np\n",
    "from sklearn.model_selection import train_test_split\n",
    "from sklearn.ensemble import RandomForestClassifier\n",
    "from sklearn import datasets\n",
    "\n",
    "RSEED = 50\n",
    "\n",
    "# Load in data\n",
    "df = pd.read_csv('OceanData.csv')"
   ]
  },
  {
   "cell_type": "code",
   "execution_count": 2,
   "metadata": {},
   "outputs": [
    {
     "data": {
      "text/html": [
       "<div>\n",
       "<style scoped>\n",
       "    .dataframe tbody tr th:only-of-type {\n",
       "        vertical-align: middle;\n",
       "    }\n",
       "\n",
       "    .dataframe tbody tr th {\n",
       "        vertical-align: top;\n",
       "    }\n",
       "\n",
       "    .dataframe thead th {\n",
       "        text-align: right;\n",
       "    }\n",
       "</style>\n",
       "<table border=\"1\" class=\"dataframe\">\n",
       "  <thead>\n",
       "    <tr style=\"text-align: right;\">\n",
       "      <th></th>\n",
       "      <th>USVI</th>\n",
       "      <th>FGB</th>\n",
       "      <th>PR</th>\n",
       "      <th>DT</th>\n",
       "      <th>Temp</th>\n",
       "      <th>Salinity</th>\n",
       "      <th>CalcDensity</th>\n",
       "      <th>CRMTA</th>\n",
       "      <th>SampleDensity</th>\n",
       "      <th>TA1</th>\n",
       "      <th>TA2</th>\n",
       "      <th>MeanTA</th>\n",
       "      <th>TACorrection</th>\n",
       "      <th>TA1pH</th>\n",
       "      <th>TA2pH</th>\n",
       "      <th>MeanTApH</th>\n",
       "      <th>CO2</th>\n",
       "      <th>CorrectedCO2</th>\n",
       "      <th>Label</th>\n",
       "    </tr>\n",
       "  </thead>\n",
       "  <tbody>\n",
       "    <tr>\n",
       "      <th>0</th>\n",
       "      <td>1</td>\n",
       "      <td>0</td>\n",
       "      <td>0</td>\n",
       "      <td>0</td>\n",
       "      <td>28.6</td>\n",
       "      <td>32.8</td>\n",
       "      <td>1.020548</td>\n",
       "      <td>2238.04</td>\n",
       "      <td>1.022052</td>\n",
       "      <td>2386.4</td>\n",
       "      <td>2383.7</td>\n",
       "      <td>2385.05</td>\n",
       "      <td>2340.749221</td>\n",
       "      <td>8.226</td>\n",
       "      <td>8.224</td>\n",
       "      <td>8.225</td>\n",
       "      <td>2072.58</td>\n",
       "      <td>1993.423459</td>\n",
       "      <td>0</td>\n",
       "    </tr>\n",
       "    <tr>\n",
       "      <th>1</th>\n",
       "      <td>1</td>\n",
       "      <td>0</td>\n",
       "      <td>0</td>\n",
       "      <td>0</td>\n",
       "      <td>28.2</td>\n",
       "      <td>33.0</td>\n",
       "      <td>1.020829</td>\n",
       "      <td>2238.04</td>\n",
       "      <td>1.022041</td>\n",
       "      <td>2410.4</td>\n",
       "      <td>2408.5</td>\n",
       "      <td>2409.45</td>\n",
       "      <td>2353.203864</td>\n",
       "      <td>8.232</td>\n",
       "      <td>8.228</td>\n",
       "      <td>8.230</td>\n",
       "      <td>2072.58</td>\n",
       "      <td>2014.763606</td>\n",
       "      <td>1</td>\n",
       "    </tr>\n",
       "    <tr>\n",
       "      <th>2</th>\n",
       "      <td>1</td>\n",
       "      <td>0</td>\n",
       "      <td>0</td>\n",
       "      <td>0</td>\n",
       "      <td>28.1</td>\n",
       "      <td>33.3</td>\n",
       "      <td>1.021087</td>\n",
       "      <td>2238.04</td>\n",
       "      <td>1.022371</td>\n",
       "      <td>2420.6</td>\n",
       "      <td>2421.9</td>\n",
       "      <td>2421.25</td>\n",
       "      <td>2363.984833</td>\n",
       "      <td>8.227</td>\n",
       "      <td>8.223</td>\n",
       "      <td>8.225</td>\n",
       "      <td>2072.58</td>\n",
       "      <td>2023.384882</td>\n",
       "      <td>1</td>\n",
       "    </tr>\n",
       "    <tr>\n",
       "      <th>3</th>\n",
       "      <td>1</td>\n",
       "      <td>0</td>\n",
       "      <td>0</td>\n",
       "      <td>0</td>\n",
       "      <td>28.0</td>\n",
       "      <td>33.3</td>\n",
       "      <td>1.021119</td>\n",
       "      <td>2238.04</td>\n",
       "      <td>1.022357</td>\n",
       "      <td>2420.3</td>\n",
       "      <td>2416.7</td>\n",
       "      <td>2418.50</td>\n",
       "      <td>2361.328974</td>\n",
       "      <td>8.220</td>\n",
       "      <td>8.218</td>\n",
       "      <td>8.219</td>\n",
       "      <td>2072.58</td>\n",
       "      <td>2020.189391</td>\n",
       "      <td>1</td>\n",
       "    </tr>\n",
       "    <tr>\n",
       "      <th>4</th>\n",
       "      <td>1</td>\n",
       "      <td>0</td>\n",
       "      <td>0</td>\n",
       "      <td>0</td>\n",
       "      <td>28.0</td>\n",
       "      <td>33.1</td>\n",
       "      <td>1.020969</td>\n",
       "      <td>2238.04</td>\n",
       "      <td>1.022322</td>\n",
       "      <td>2418.3</td>\n",
       "      <td>2417.8</td>\n",
       "      <td>2418.05</td>\n",
       "      <td>2369.718741</td>\n",
       "      <td>8.217</td>\n",
       "      <td>8.217</td>\n",
       "      <td>8.217</td>\n",
       "      <td>2072.58</td>\n",
       "      <td>2025.573375</td>\n",
       "      <td>1</td>\n",
       "    </tr>\n",
       "  </tbody>\n",
       "</table>\n",
       "</div>"
      ],
      "text/plain": [
       "   USVI  FGB  PR  DT  Temp  Salinity  CalcDensity    CRMTA  SampleDensity  \\\n",
       "0     1    0   0   0  28.6      32.8     1.020548  2238.04       1.022052   \n",
       "1     1    0   0   0  28.2      33.0     1.020829  2238.04       1.022041   \n",
       "2     1    0   0   0  28.1      33.3     1.021087  2238.04       1.022371   \n",
       "3     1    0   0   0  28.0      33.3     1.021119  2238.04       1.022357   \n",
       "4     1    0   0   0  28.0      33.1     1.020969  2238.04       1.022322   \n",
       "\n",
       "      TA1     TA2   MeanTA  TACorrection  TA1pH  TA2pH  MeanTApH      CO2  \\\n",
       "0  2386.4  2383.7  2385.05   2340.749221  8.226  8.224     8.225  2072.58   \n",
       "1  2410.4  2408.5  2409.45   2353.203864  8.232  8.228     8.230  2072.58   \n",
       "2  2420.6  2421.9  2421.25   2363.984833  8.227  8.223     8.225  2072.58   \n",
       "3  2420.3  2416.7  2418.50   2361.328974  8.220  8.218     8.219  2072.58   \n",
       "4  2418.3  2417.8  2418.05   2369.718741  8.217  8.217     8.217  2072.58   \n",
       "\n",
       "   CorrectedCO2  Label  \n",
       "0   1993.423459      0  \n",
       "1   2014.763606      1  \n",
       "2   2023.384882      1  \n",
       "3   2020.189391      1  \n",
       "4   2025.573375      1  "
      ]
     },
     "execution_count": 2,
     "metadata": {},
     "output_type": "execute_result"
    }
   ],
   "source": [
    "df.head()"
   ]
  },
  {
   "cell_type": "code",
   "execution_count": 3,
   "metadata": {},
   "outputs": [],
   "source": [
    "# Extract the labels\n",
    "labels = np.array(df.pop('Label'))\n",
    "\n",
    "# 30% examples in test data\n",
    "train, test, train_labels, test_labels = train_test_split(df,\n",
    "                                         labels, \n",
    "                                         stratify = labels,\n",
    "                                         test_size = 0.3, \n",
    "                                         random_state = RSEED)"
   ]
  },
  {
   "cell_type": "code",
   "execution_count": 4,
   "metadata": {},
   "outputs": [
    {
     "name": "stderr",
     "output_type": "stream",
     "text": [
      "[Parallel(n_jobs=-1)]: Using backend ThreadingBackend with 4 concurrent workers.\n",
      "[Parallel(n_jobs=-1)]: Done  10 out of  10 | elapsed:    0.0s finished\n"
     ]
    }
   ],
   "source": [
    "# Imputation of missing values\n",
    "train = train.fillna(train.mean())\n",
    "test = test.fillna(test.mean())\n",
    "\n",
    "# Features for feature importances\n",
    "features = list(train.columns)\n",
    "\n",
    "# Create the model with 10 trees\n",
    "model = RandomForestClassifier(n_estimators=10, \n",
    "                               random_state=RSEED, \n",
    "                               max_features = 'sqrt',\n",
    "                               n_jobs=-1, verbose = 1)\n",
    "\n",
    "# Fit on training data\n",
    "model.fit(train, train_labels)\n",
    "\n",
    "\n",
    "n_nodes = []\n",
    "max_depths = []"
   ]
  },
  {
   "cell_type": "code",
   "execution_count": 5,
   "metadata": {},
   "outputs": [
    {
     "name": "stderr",
     "output_type": "stream",
     "text": [
      "[Parallel(n_jobs=4)]: Using backend ThreadingBackend with 4 concurrent workers.\n",
      "[Parallel(n_jobs=4)]: Done  10 out of  10 | elapsed:    0.0s finished\n"
     ]
    },
    {
     "name": "stdout",
     "output_type": "stream",
     "text": [
      "Average number of nodes 17\n",
      "Average maximum depth 4\n"
     ]
    },
    {
     "name": "stderr",
     "output_type": "stream",
     "text": [
      "[Parallel(n_jobs=4)]: Using backend ThreadingBackend with 4 concurrent workers.\n",
      "[Parallel(n_jobs=4)]: Done  10 out of  10 | elapsed:    0.0s finished\n",
      "[Parallel(n_jobs=4)]: Using backend ThreadingBackend with 4 concurrent workers.\n",
      "[Parallel(n_jobs=4)]: Done  10 out of  10 | elapsed:    0.0s finished\n",
      "[Parallel(n_jobs=4)]: Using backend ThreadingBackend with 4 concurrent workers.\n",
      "[Parallel(n_jobs=4)]: Done  10 out of  10 | elapsed:    0.0s finished\n"
     ]
    }
   ],
   "source": [
    "# Stats about the trees in random forest\n",
    "for ind_tree in model.estimators_:\n",
    "    n_nodes.append(ind_tree.tree_.node_count)\n",
    "    max_depths.append(ind_tree.tree_.max_depth)\n",
    "    \n",
    "print(f'Average number of nodes {int(np.mean(n_nodes))}')\n",
    "print(f'Average maximum depth {int(np.mean(max_depths))}')\n",
    "\n",
    "# Training predictions (to demonstrate overfitting)\n",
    "train_rf_predictions = model.predict(train)\n",
    "train_rf_probs = model.predict_proba(train)[:, 1]\n",
    "\n",
    "# Testing predictions (to determine performance)\n",
    "rf_predictions = model.predict(test)\n",
    "rf_probs = model.predict_proba(test)[:, 1]"
   ]
  },
  {
   "cell_type": "code",
   "execution_count": 6,
   "metadata": {},
   "outputs": [],
   "source": [
    "from sklearn.metrics import precision_score, recall_score, roc_auc_score, roc_curve\n",
    "import matplotlib.pyplot as plt\n",
    "\n",
    "\n"
   ]
  },
  {
   "cell_type": "code",
   "execution_count": 7,
   "metadata": {},
   "outputs": [],
   "source": [
    "# Plot formatting\n",
    "plt.style.use('fivethirtyeight')\n",
    "plt.rcParams['font.size'] = 18\n",
    "\n"
   ]
  },
  {
   "cell_type": "code",
   "execution_count": 8,
   "metadata": {},
   "outputs": [],
   "source": [
    "def evaluate_model(predictions, probs, train_predictions, train_probs):\n",
    "    \"\"\"Compare machine learning model to baseline performance.\n",
    "    Computes statistics and shows ROC curve.\"\"\"\n",
    "    \n",
    "    baseline = {}\n",
    "    \n",
    "    baseline['recall'] = recall_score(test_labels, \n",
    "                                     [1 for _ in range(len(test_labels))])\n",
    "    baseline['precision'] = precision_score(test_labels, \n",
    "                                      [1 for _ in range(len(test_labels))])\n",
    "    baseline['roc'] = 0.5\n",
    "    \n",
    "    results = {}\n",
    "    \n",
    "    results['recall'] = recall_score(test_labels, predictions)\n",
    "    results['precision'] = precision_score(test_labels, predictions)\n",
    "    results['roc'] = roc_auc_score(test_labels, probs)\n",
    "    \n",
    "    train_results = {}\n",
    "    train_results['recall'] = recall_score(train_labels, train_predictions)\n",
    "    train_results['precision'] = precision_score(train_labels, train_predictions)\n",
    "    train_results['roc'] = roc_auc_score(train_labels, train_probs)\n",
    "    \n",
    "    for metric in ['recall', 'precision', 'roc']:\n",
    "        print(f'{metric.capitalize()} Baseline: {round(baseline[metric], 2)} Test: {round(results[metric], 2)} Train: {round(train_results[metric], 2)}')\n",
    "    \n",
    "    # Calculate false positive rates and true positive rates\n",
    "    base_fpr, base_tpr, _ = roc_curve(test_labels, [1 for _ in range(len(test_labels))])\n",
    "    model_fpr, model_tpr, _ = roc_curve(test_labels, probs)\n",
    "\n",
    "    plt.figure(figsize = (8, 6))\n",
    "    plt.rcParams['font.size'] = 16\n",
    "    \n",
    "    # Plot both curves\n",
    "    plt.plot(base_fpr, base_tpr, 'b', label = 'baseline')\n",
    "    plt.plot(model_fpr, model_tpr, 'r', label = 'model')\n",
    "    plt.legend();\n",
    "    plt.xlabel('False Positive Rate'); \n",
    "    plt.ylabel('True Positive Rate'); plt.title('ROC Curves');\n",
    "    plt.show();"
   ]
  },
  {
   "cell_type": "code",
   "execution_count": 11,
   "metadata": {},
   "outputs": [
    {
     "name": "stdout",
     "output_type": "stream",
     "text": [
      "Recall Baseline: 1.0 Test: 0.98 Train: 1.0\n",
      "Precision Baseline: 0.77 Test: 1.0 Train: 1.0\n",
      "Roc Baseline: 0.5 Test: 1.0 Train: 1.0\n"
     ]
    },
    {
     "data": {
      "image/png": "[encoded data removed]",
      "text/plain": [
       "<Figure size 576x432 with 1 Axes>"
      ]
     },
     "metadata": {},
     "output_type": "display_data"
    },
    {
     "name": "stdout",
     "output_type": "stream",
     "text": [
      "Confusion matrix, without normalization\n",
      "[[15  0]\n",
      " [ 1 49]]\n"
     ]
    },
    {
     "data": {
      "text/plain": [
       "<Figure size 432x288 with 0 Axes>"
      ]
     },
     "metadata": {},
     "output_type": "display_data"
    },
    {
     "data": {
      "image/png": "[encoded data removed]",
      "text/plain": [
       "<Figure size 720x720 with 2 Axes>"
      ]
     },
     "metadata": {},
     "output_type": "display_data"
    }
   ],
   "source": [
    "evaluate_model(rf_predictions, rf_probs, train_rf_predictions, train_rf_probs)\n",
    "plt.savefig('roc_auc_curve.png')\n",
    "\n",
    "from sklearn.metrics import confusion_matrix\n",
    "import itertools\n",
    "\n",
    "def plot_confusion_matrix(cm, classes,\n",
    "                          normalize=False,\n",
    "                          title='Confusion matrix',\n",
    "                          cmap=plt.cm.Oranges):\n",
    "    \"\"\"\n",
    "    This function prints and plots the confusion matrix.\n",
    "    Normalization can be applied by setting `normalize=True`.\n",
    "    Source: http://scikit-learn.org/stable/auto_examples/model_selection/plot_confusion_matrix.html\n",
    "    \"\"\"\n",
    "    if normalize:\n",
    "        cm = cm.astype('float') / cm.sum(axis=1)[:, np.newaxis]\n",
    "        print(\"Normalized confusion matrix\")\n",
    "    else:\n",
    "        print('Confusion matrix, without normalization')\n",
    "\n",
    "    print(cm)\n",
    "\n",
    "    # Plot the confusion matrix\n",
    "    plt.figure(figsize = (10, 10))\n",
    "    plt.imshow(cm, interpolation='nearest', cmap=cmap)\n",
    "    plt.title(title, size = 24)\n",
    "    plt.colorbar(aspect=4)\n",
    "    tick_marks = np.arange(len(classes))\n",
    "    plt.xticks(tick_marks, classes, rotation=45, size = 14)\n",
    "    plt.yticks(tick_marks, classes, size = 14)\n",
    "\n",
    "    fmt = '.2f' if normalize else 'd'\n",
    "    thresh = cm.max() / 2.\n",
    "    \n",
    "    # Labeling the plot\n",
    "    for i, j in itertools.product(range(cm.shape[0]), range(cm.shape[1])):\n",
    "        plt.text(j, i, format(cm[i, j], fmt), fontsize = 20,\n",
    "                 horizontalalignment=\"center\",\n",
    "                 color=\"white\" if cm[i, j] > thresh else \"black\")\n",
    "        \n",
    "    plt.grid(None)\n",
    "    plt.tight_layout()\n",
    "    plt.ylabel('True label', size = 18)\n",
    "    plt.xlabel('Predicted label', size = 18)\n",
    "\n",
    "# Confusion matrix\n",
    "cm = confusion_matrix(test_labels, rf_predictions)\n",
    "plot_confusion_matrix(cm, classes = ['Not at Risk', 'At Risk'],\n",
    "                      title = 'Confusion Matrix')\n",
    "\n",
    "plt.savefig('cm.png')"
   ]
  },
  {
   "cell_type": "code",
   "execution_count": 10,
   "metadata": {},
   "outputs": [
    {
     "data": {
      "text/plain": [
       "array([0.00117988, 0.        , 0.00249429, 0.        , 0.01572193,\n",
       "       0.02652575, 0.00924834, 0.00248956, 0.01078837, 0.08271393,\n",
       "       0.2175544 , 0.15576265, 0.05334423, 0.0222511 , 0.08193392,\n",
       "       0.09085458, 0.        , 0.22713708])"
      ]
     },
     "execution_count": 10,
     "metadata": {},
     "output_type": "execute_result"
    }
   ],
   "source": [
    "#show important features. High number mean more important feature. CO2 levels were the most important\n",
    "model.feature_importances_"
   ]
  }
 ],
 "metadata": {
  "kernelspec": {
   "display_name": "Python 3",
   "language": "python",
   "name": "python3"
  },
  "language_info": {
   "codemirror_mode": {
    "name": "ipython",
    "version": 3
   },
   "file_extension": ".py",
   "mimetype": "text/x-python",
   "name": "python",
   "nbconvert_exporter": "python",
   "pygments_lexer": "ipython3",
   "version": "3.7.3"
  }
 },
 "nbformat": 4,
 "nbformat_minor": 2
}
