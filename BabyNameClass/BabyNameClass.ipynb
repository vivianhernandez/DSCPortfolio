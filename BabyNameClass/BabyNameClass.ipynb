{
 "cells": [
  {
   "cell_type": "code",
   "execution_count": 1,
   "metadata": {},
   "outputs": [],
   "source": [
    "#1. Build a Classification Model\n",
    "\n",
    "#In this exercise, you will fit a binary logistic regression model to the baby name dataset you used in the previous exercise. This model will predict the sex of a person based on their age, name, and state they were born in. To train the model, you will use the data found in baby-names/names-classifier.\n",
    "\n",
    "#a. Prepare in Input Features\n",
    "\n",
    "\n",
    "#First, you will need to prepare each of the input features. While age is a numeric feature, state and name are not. These need to be converted into numeric vectors before you can train the model. Use a StringIndexer along with the OneHotEncoderEstimator to convert the name, state, and sex columns into numeric vectors. Use the VectorAssembler to combine the name, state, and age vectors into a single features vector. Your final dataset should contain a column called features containing the prepared vector and a column called label containing the sex of the person."
   ]
  },
  {
   "cell_type": "code",
   "execution_count": 2,
   "metadata": {},
   "outputs": [
    {
     "data": {
      "text/html": [
       "<style scoped>\n",
       "  .ansiout {\n",
       "    display: block;\n",
       "    unicode-bidi: embed;\n",
       "    white-space: pre-wrap;\n",
       "    word-wrap: break-word;\n",
       "    word-break: break-all;\n",
       "    font-family: \"Source Code Pro\", \"Menlo\", monospace;;\n",
       "    font-size: 13px;\n",
       "    color: #555;\n",
       "    margin-left: 4px;\n",
       "    line-height: 19px;\n",
       "  }\n",
       "</style>\n",
       "<div class=\"ansiout\"></div>"
      ]
     },
     "metadata": {},
     "output_type": "display_data"
    }
   ],
   "source": [
    "from pyspark.sql import SparkSession\n",
    "from pyspark.ml import Pipeline\n",
    "from pyspark.ml.feature import OneHotEncoderEstimator, StringIndexer, VectorAssembler\n",
    "from pyspark.ml.classification import LogisticRegression"
   ]
  },
  {
   "cell_type": "code",
   "execution_count": 3,
   "metadata": {},
   "outputs": [
    {
     "data": {
      "text/html": [
       "<style scoped>\n",
       "  .ansiout {\n",
       "    display: block;\n",
       "    unicode-bidi: embed;\n",
       "    white-space: pre-wrap;\n",
       "    word-wrap: break-word;\n",
       "    word-break: break-all;\n",
       "    font-family: \"Source Code Pro\", \"Menlo\", monospace;;\n",
       "    font-size: 13px;\n",
       "    color: #555;\n",
       "    margin-left: 4px;\n",
       "    line-height: 19px;\n",
       "  }\n",
       "</style>\n",
       "<div class=\"ansiout\"></div>"
      ]
     },
     "metadata": {},
     "output_type": "display_data"
    }
   ],
   "source": [
    "spark = SparkSession.builder.appName('week10').getOrCreate()\n",
    "df = spark.read.parquet(r\"/FileStore/tables/namesclassifier\")"
   ]
  },
  {
   "cell_type": "code",
   "execution_count": 4,
   "metadata": {},
   "outputs": [
    {
     "data": {
      "text/html": [
       "<style scoped>\n",
       "  .ansiout {\n",
       "    display: block;\n",
       "    unicode-bidi: embed;\n",
       "    white-space: pre-wrap;\n",
       "    word-wrap: break-word;\n",
       "    word-break: break-all;\n",
       "    font-family: \"Source Code Pro\", \"Menlo\", monospace;;\n",
       "    font-size: 13px;\n",
       "    color: #555;\n",
       "    margin-left: 4px;\n",
       "    line-height: 19px;\n",
       "  }\n",
       "</style>\n",
       "<div class=\"ansiout\"></div>"
      ]
     },
     "metadata": {},
     "output_type": "display_data"
    }
   ],
   "source": [
    "from pyspark.ml import Pipeline\n",
    "from pyspark.ml.feature import OneHotEncoderEstimator, StringIndexer, VectorAssembler"
   ]
  },
  {
   "cell_type": "code",
   "execution_count": 5,
   "metadata": {},
   "outputs": [
    {
     "data": {
      "text/html": [
       "<style scoped>\n",
       "  .ansiout {\n",
       "    display: block;\n",
       "    unicode-bidi: embed;\n",
       "    white-space: pre-wrap;\n",
       "    word-wrap: break-word;\n",
       "    word-break: break-all;\n",
       "    font-family: \"Source Code Pro\", \"Menlo\", monospace;;\n",
       "    font-size: 13px;\n",
       "    color: #555;\n",
       "    margin-left: 4px;\n",
       "    line-height: 19px;\n",
       "  }\n",
       "</style>\n",
       "<div class=\"ansiout\"></div>"
      ]
     },
     "metadata": {},
     "output_type": "display_data"
    }
   ],
   "source": [
    "categoricalColumns = [\"state\", \"name\", \"sex\"]\n",
    "transform = [] \n",
    "for categoricalCol in categoricalColumns:\n",
    "    stringIndexer = StringIndexer(inputCol=categoricalCol, outputCol=categoricalCol + \"Index\")\n",
    "    encoder = OneHotEncoderEstimator(inputCols=[stringIndexer.getOutputCol()], outputCols=[categoricalCol + \"classVec\"])\n",
    "    transform += [stringIndexer, encoder]\n",
    "\n",
    "label_stringIdx = StringIndexer(inputCol=\"sex\", outputCol=\"label\")\n",
    "transform += [label_stringIdx]\n",
    "\n",
    "numericCols = [\"age\"]\n",
    "assemblerInputs = [\"stateclassVec\",\"nameclassVec\"]+ numericCols\n",
    "assembler = VectorAssembler(inputCols=assemblerInputs, outputCol=\"features\")\n",
    "transform += [assembler]"
   ]
  },
  {
   "cell_type": "code",
   "execution_count": 6,
   "metadata": {},
   "outputs": [
    {
     "data": {
      "text/html": [
       "<style scoped>\n",
       "  .ansiout {\n",
       "    display: block;\n",
       "    unicode-bidi: embed;\n",
       "    white-space: pre-wrap;\n",
       "    word-wrap: break-word;\n",
       "    word-break: break-all;\n",
       "    font-family: \"Source Code Pro\", \"Menlo\", monospace;;\n",
       "    font-size: 13px;\n",
       "    color: #555;\n",
       "    margin-left: 4px;\n",
       "    line-height: 19px;\n",
       "  }\n",
       "</style>\n",
       "<div class=\"ansiout\"></div>"
      ]
     },
     "metadata": {},
     "output_type": "display_data"
    }
   ],
   "source": [
    "partialPipeline = Pipeline().setStages(transform)\n",
    "pipelineModel = partialPipeline.fit(df)\n",
    "transformedDataDF = pipelineModel.transform(df)"
   ]
  },
  {
   "cell_type": "code",
   "execution_count": 7,
   "metadata": {},
   "outputs": [
    {
     "data": {
      "text/html": [
       "<style scoped>\n",
       "  .ansiout {\n",
       "    display: block;\n",
       "    unicode-bidi: embed;\n",
       "    white-space: pre-wrap;\n",
       "    word-wrap: break-word;\n",
       "    word-break: break-all;\n",
       "    font-family: \"Source Code Pro\", \"Menlo\", monospace;;\n",
       "    font-size: 13px;\n",
       "    color: #555;\n",
       "    margin-left: 4px;\n",
       "    line-height: 19px;\n",
       "  }\n",
       "</style>\n",
       "<div class=\"ansiout\">+------+-----+---+---+----------+--------------+---------+-----------------+--------+-------------+-----+--------------------+\n",
       "  name|state|sex|age|stateIndex| stateclassVec|nameIndex|     nameclassVec|sexIndex|  sexclassVec|label|            features|\n",
       "+------+-----+---+---+----------+--------------+---------+-----------------+--------+-------------+-----+--------------------+\n",
       "Joseph|   PA|  M| 26|       3.0|(50,[3],[1.0])|      8.0|(31313,[8],[1.0])|     0.0|(1,[0],[1.0])|  0.0|(31364,[3,58,3136...|\n",
       "Joseph|   PA|  M| 26|       3.0|(50,[3],[1.0])|      8.0|(31313,[8],[1.0])|     0.0|(1,[0],[1.0])|  0.0|(31364,[3,58,3136...|\n",
       "Joseph|   PA|  M| 26|       3.0|(50,[3],[1.0])|      8.0|(31313,[8],[1.0])|     0.0|(1,[0],[1.0])|  0.0|(31364,[3,58,3136...|\n",
       "Joseph|   PA|  M| 26|       3.0|(50,[3],[1.0])|      8.0|(31313,[8],[1.0])|     0.0|(1,[0],[1.0])|  0.0|(31364,[3,58,3136...|\n",
       "Joseph|   PA|  M| 26|       3.0|(50,[3],[1.0])|      8.0|(31313,[8],[1.0])|     0.0|(1,[0],[1.0])|  0.0|(31364,[3,58,3136...|\n",
       "Joseph|   PA|  M| 26|       3.0|(50,[3],[1.0])|      8.0|(31313,[8],[1.0])|     0.0|(1,[0],[1.0])|  0.0|(31364,[3,58,3136...|\n",
       "Joseph|   PA|  M| 26|       3.0|(50,[3],[1.0])|      8.0|(31313,[8],[1.0])|     0.0|(1,[0],[1.0])|  0.0|(31364,[3,58,3136...|\n",
       "Joseph|   PA|  M| 26|       3.0|(50,[3],[1.0])|      8.0|(31313,[8],[1.0])|     0.0|(1,[0],[1.0])|  0.0|(31364,[3,58,3136...|\n",
       "Joseph|   PA|  M| 26|       3.0|(50,[3],[1.0])|      8.0|(31313,[8],[1.0])|     0.0|(1,[0],[1.0])|  0.0|(31364,[3,58,3136...|\n",
       "Joseph|   PA|  M| 26|       3.0|(50,[3],[1.0])|      8.0|(31313,[8],[1.0])|     0.0|(1,[0],[1.0])|  0.0|(31364,[3,58,3136...|\n",
       "Joseph|   PA|  M| 26|       3.0|(50,[3],[1.0])|      8.0|(31313,[8],[1.0])|     0.0|(1,[0],[1.0])|  0.0|(31364,[3,58,3136...|\n",
       "Joseph|   PA|  M| 26|       3.0|(50,[3],[1.0])|      8.0|(31313,[8],[1.0])|     0.0|(1,[0],[1.0])|  0.0|(31364,[3,58,3136...|\n",
       "Joseph|   PA|  M| 26|       3.0|(50,[3],[1.0])|      8.0|(31313,[8],[1.0])|     0.0|(1,[0],[1.0])|  0.0|(31364,[3,58,3136...|\n",
       "Joseph|   PA|  M| 26|       3.0|(50,[3],[1.0])|      8.0|(31313,[8],[1.0])|     0.0|(1,[0],[1.0])|  0.0|(31364,[3,58,3136...|\n",
       "Joseph|   PA|  M| 26|       3.0|(50,[3],[1.0])|      8.0|(31313,[8],[1.0])|     0.0|(1,[0],[1.0])|  0.0|(31364,[3,58,3136...|\n",
       "Joseph|   PA|  M| 26|       3.0|(50,[3],[1.0])|      8.0|(31313,[8],[1.0])|     0.0|(1,[0],[1.0])|  0.0|(31364,[3,58,3136...|\n",
       "Joseph|   PA|  M| 26|       3.0|(50,[3],[1.0])|      8.0|(31313,[8],[1.0])|     0.0|(1,[0],[1.0])|  0.0|(31364,[3,58,3136...|\n",
       "Joseph|   PA|  M| 26|       3.0|(50,[3],[1.0])|      8.0|(31313,[8],[1.0])|     0.0|(1,[0],[1.0])|  0.0|(31364,[3,58,3136...|\n",
       "Joseph|   PA|  M| 26|       3.0|(50,[3],[1.0])|      8.0|(31313,[8],[1.0])|     0.0|(1,[0],[1.0])|  0.0|(31364,[3,58,3136...|\n",
       "Joseph|   PA|  M| 26|       3.0|(50,[3],[1.0])|      8.0|(31313,[8],[1.0])|     0.0|(1,[0],[1.0])|  0.0|(31364,[3,58,3136...|\n",
       "+------+-----+---+---+----------+--------------+---------+-----------------+--------+-------------+-----+--------------------+\n",
       "only showing top 20 rows\n",
       "\n",
       "</div>"
      ]
     },
     "metadata": {},
     "output_type": "display_data"
    }
   ],
   "source": [
    "transformedDataDF.show()"
   ]
  },
  {
   "cell_type": "code",
   "execution_count": 8,
   "metadata": {},
   "outputs": [],
   "source": [
    "#2. Fit and Evaluate the Model\n",
    "\n",
    "#Fit the model as a logistic regression model with the following parameters. LogisticRegression(maxIter=10, regParam=0.3, elasticNetParam=0.8). Provide the area under the ROC curve for the model."
   ]
  },
  {
   "cell_type": "code",
   "execution_count": 9,
   "metadata": {},
   "outputs": [
    {
     "data": {
      "text/html": [
       "<style scoped>\n",
       "  .ansiout {\n",
       "    display: block;\n",
       "    unicode-bidi: embed;\n",
       "    white-space: pre-wrap;\n",
       "    word-wrap: break-word;\n",
       "    word-break: break-all;\n",
       "    font-family: \"Source Code Pro\", \"Menlo\", monospace;;\n",
       "    font-size: 13px;\n",
       "    color: #555;\n",
       "    margin-left: 4px;\n",
       "    line-height: 19px;\n",
       "  }\n",
       "</style>\n",
       "<div class=\"ansiout\"></div>"
      ]
     },
     "metadata": {},
     "output_type": "display_data"
    }
   ],
   "source": [
    "import matplotlib.pyplot as plt"
   ]
  },
  {
   "cell_type": "code",
   "execution_count": 10,
   "metadata": {},
   "outputs": [
    {
     "data": {
      "text/html": [
       "<style scoped>\n",
       "  .ansiout {\n",
       "    display: block;\n",
       "    unicode-bidi: embed;\n",
       "    white-space: pre-wrap;\n",
       "    word-wrap: break-word;\n",
       "    word-break: break-all;\n",
       "    font-family: \"Source Code Pro\", \"Menlo\", monospace;;\n",
       "    font-size: 13px;\n",
       "    color: #555;\n",
       "    margin-left: 4px;\n",
       "    line-height: 19px;\n",
       "  }\n",
       "</style>\n",
       "<div class=\"ansiout\"></div>"
      ]
     },
     "metadata": {},
     "output_type": "display_data"
    }
   ],
   "source": [
    "lr = LogisticRegression(maxIter=10, regParam=0.3, elasticNetParam=0.8)\n",
    "lrModel= lr.fit(transformedDataDF)"
   ]
  },
  {
   "cell_type": "code",
   "execution_count": 11,
   "metadata": {},
   "outputs": [
    {
     "data": {
      "text/html": [
       "<style scoped>\n",
       "  .ansiout {\n",
       "    display: block;\n",
       "    unicode-bidi: embed;\n",
       "    white-space: pre-wrap;\n",
       "    word-wrap: break-word;\n",
       "    word-break: break-all;\n",
       "    font-family: \"Source Code Pro\", \"Menlo\", monospace;;\n",
       "    font-size: 13px;\n",
       "    color: #555;\n",
       "    margin-left: 4px;\n",
       "    line-height: 19px;\n",
       "  }\n",
       "</style>\n",
       "<div class=\"ansiout\">Coefficients: (31364,[],[])\n",
       "Intercept: -0.07775464667262107\n",
       "</div>"
      ]
     },
     "metadata": {},
     "output_type": "display_data"
    }
   ],
   "source": [
    "print(\"Coefficients: \" + str(lrModel.coefficients))\n",
    "print(\"Intercept: \" + str(lrModel.intercept))"
   ]
  },
  {
   "cell_type": "code",
   "execution_count": 12,
   "metadata": {},
   "outputs": [],
   "source": [
    "trainingSummary = lrModel.summary\n",
    "\n",
    "roc = trainingSummary.roc.toPandas()\n",
    "plt.plot(roc['FPR'],roc['TPR'])\n",
    "plt.ylabel('FPR')\n",
    "plt.xlabel('TPR')\n",
    "plt.title('ROC')\n",
    "plt.show()"
   ]
  },
  {
   "cell_type": "code",
   "execution_count": 13,
   "metadata": {},
   "outputs": [
    {
     "data": {
      "text/html": [
       "<style scoped>\n",
       "  .ansiout {\n",
       "    display: block;\n",
       "    unicode-bidi: embed;\n",
       "    white-space: pre-wrap;\n",
       "    word-wrap: break-word;\n",
       "    word-break: break-all;\n",
       "    font-family: \"Source Code Pro\", \"Menlo\", monospace;;\n",
       "    font-size: 13px;\n",
       "    color: #555;\n",
       "    margin-left: 4px;\n",
       "    line-height: 19px;\n",
       "  }\n",
       "</style>\n",
       "<div class=\"ansiout\">0.5\n",
       "</div>"
      ]
     },
     "metadata": {},
     "output_type": "display_data"
    }
   ],
   "source": [
    "print(str(trainingSummary.areaUnderROC))"
   ]
  }
 ],
 "metadata": {
  "kernelspec": {
   "display_name": "Python 3",
   "language": "python",
   "name": "python3"
  },
  "language_info": {
   "codemirror_mode": {
    "name": "ipython",
    "version": 3
   },
   "file_extension": ".py",
   "mimetype": "text/x-python",
   "name": "python",
   "nbconvert_exporter": "python",
   "pygments_lexer": "ipython3",
   "version": "3.7.3"
  },
  "name": "Week 10",
  "notebookId": 626908972100774
 },
 "nbformat": 4,
 "nbformat_minor": 1
}
