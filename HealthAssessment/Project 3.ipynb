{
 "cells": [
  {
   "cell_type": "code",
   "execution_count": 1,
   "metadata": {},
   "outputs": [],
   "source": [
    "import matplotlib.pyplot as plt\n",
    " \n",
    "import pandas as pd\n",
    "import numpy as np\n",
    " "
   ]
  },
  {
   "cell_type": "code",
   "execution_count": 2,
   "metadata": {},
   "outputs": [],
   "source": [
    " data = pd.read_csv(\"BloodResults.csv\")"
   ]
  },
  {
   "cell_type": "code",
   "execution_count": 3,
   "metadata": {},
   "outputs": [
    {
     "name": "stdout",
     "output_type": "stream",
     "text": [
      "    Turtle ID Trip Date  Trip Month  Trip Day    BMI  Hemolysis  Lipemia  \\\n",
      "0  CC081816-1   8/18/16           8        18  12.79          0        0   \n",
      "1  CC050417-1    5/4/17           5         4  13.79          0        1   \n",
      "2  CC050417-3    5/4/17           5         4  14.70          0        0   \n",
      "3  CC060617-2    6/6/17           6         6  16.63          0        0   \n",
      "4  CC062017-1   6/20/17           6        20  11.80          0        1   \n",
      "\n",
      "   Amylase   AST    CPK    ...  CO2    Glucose    BUN   Anion Gap    \\\n",
      "0       378    171    877  ...     24         81    13            3   \n",
      "1      1126    346   1138  ...     28        115     8            7   \n",
      "2       582    179   1061  ...     25         76    11            9   \n",
      "3       478    297    574  ...     28         73     3            2   \n",
      "4       656    182   1246  ...     21         79    14            2   \n",
      "\n",
      "   Osmolality    Phosphorus    UricAcid    Total Protein    Triglycerides   \\\n",
      "0           273           7.9         0.6              3.1              68   \n",
      "1           277          10.1         0.9              5.6            1065   \n",
      "2           267          12.5         0.7              6.2            1163   \n",
      "3           258           7.9         0.8              4.8             801   \n",
      "4           268           8.5         0.9              3.7             841   \n",
      "\n",
      "   Total Protein (3.2-5.6)    (g/dl)  \n",
      "0                                3.1  \n",
      "1                                5.6  \n",
      "2                                6.2  \n",
      "3                                4.8  \n",
      "4                                3.7  \n",
      "\n",
      "[5 rows x 26 columns]\n"
     ]
    }
   ],
   "source": [
    "print(data.head(5))"
   ]
  },
  {
   "cell_type": "code",
   "execution_count": 4,
   "metadata": {},
   "outputs": [
    {
     "name": "stdout",
     "output_type": "stream",
     "text": [
      "Describe Data\n",
      "       Trip Month   Trip Day        BMI  Hemolysis    Lipemia     Amylase   \\\n",
      "count    57.00000  57.000000  57.000000  57.000000  57.000000    57.000000   \n",
      "mean      6.45614  17.140351  13.415263   0.754386   0.157895   554.824561   \n",
      "std       1.16604   9.201007   1.290955   0.931219   0.413585   202.355515   \n",
      "min       5.00000   1.000000  11.200000   0.000000   0.000000   137.000000   \n",
      "25%       5.00000  10.000000  12.600000   0.000000   0.000000   406.000000   \n",
      "50%       6.00000  17.000000  13.270000   0.000000   0.000000   546.000000   \n",
      "75%       8.00000  25.000000  14.200000   1.000000   0.000000   658.000000   \n",
      "max       8.00000  31.000000  16.630000   4.000000   2.000000  1126.000000   \n",
      "\n",
      "            AST          CPK    Calcium    Cholesterol    ...  Chloride    \\\n",
      "count   57.000000    57.000000  57.000000      57.000000  ...   57.000000   \n",
      "mean   190.000000  1039.877193  10.543860     191.350877  ...  118.473684   \n",
      "std     81.122482  1501.935407   4.202551      60.416557  ...    5.744890   \n",
      "min    112.000000   141.000000   1.400000      98.000000  ...  106.000000   \n",
      "25%    146.000000   413.000000   8.600000     151.000000  ...  115.000000   \n",
      "50%    171.000000   693.000000  10.700000     179.000000  ...  118.000000   \n",
      "75%    192.000000  1061.000000  11.700000     216.000000  ...  122.000000   \n",
      "max    580.000000  8512.000000  31.400000     320.000000  ...  134.000000   \n",
      "\n",
      "           CO2     Glucose         BUN   Anion Gap    Osmolality    \\\n",
      "count  57.000000   57.000000  57.000000    57.000000     57.000000   \n",
      "mean   19.438596   77.754386  11.631579     5.087719    274.614035   \n",
      "std     5.666372   16.276934   4.850006     3.910977      8.503685   \n",
      "min     5.000000   39.000000   3.000000    -3.000000    253.000000   \n",
      "25%    16.000000   68.000000   9.000000     3.000000    270.000000   \n",
      "50%    20.000000   79.000000  11.000000     5.000000    275.000000   \n",
      "75%    23.000000   89.000000  13.000000     7.000000    280.000000   \n",
      "max    29.000000  115.000000  28.000000    16.000000    289.000000   \n",
      "\n",
      "       Phosphorus    UricAcid    Total Protein    Triglycerides   \n",
      "count     57.000000   57.000000        57.000000       57.000000  \n",
      "mean       8.885965    0.550877         4.396491      582.824561  \n",
      "std        1.959176    0.226875         0.980154      479.883621  \n",
      "min        5.200000    0.200000         2.900000       63.000000  \n",
      "25%        8.000000    0.400000         3.700000      145.000000  \n",
      "50%        8.600000    0.600000         4.300000      527.000000  \n",
      "75%        9.800000    0.700000         4.900000      891.000000  \n",
      "max       17.400000    1.000000         7.100000     1772.000000  \n",
      "\n",
      "[8 rows x 23 columns]\n"
     ]
    }
   ],
   "source": [
    "print(\"Describe Data\")\n",
    "print(data.describe())"
   ]
  },
  {
   "cell_type": "code",
   "execution_count": 5,
   "metadata": {},
   "outputs": [],
   "source": [
    "df = pd.DataFrame(data)"
   ]
  },
  {
   "cell_type": "code",
   "execution_count": 6,
   "metadata": {},
   "outputs": [
    {
     "name": "stdout",
     "output_type": "stream",
     "text": [
      "      Turtle ID Trip Date  Trip Month  Trip Day    BMI  Hemolysis  Lipemia  \\\n",
      "0    CC081816-1   8/18/16           8        18  12.79          0        0   \n",
      "1    CC050417-1    5/4/17           5         4  13.79          0        1   \n",
      "2    CC050417-3    5/4/17           5         4  14.70          0        0   \n",
      "3    CC060617-2    6/6/17           6         6  16.63          0        0   \n",
      "4    CC062017-1   6/20/17           6        20  11.80          0        1   \n",
      "5    CC072117-1   7/21/17           7        21  12.91          0        0   \n",
      "6    CC072117-3   7/21/17           7        21  14.24          0        0   \n",
      "7    CC080817-1    8/8/17           8         8  12.34          0        0   \n",
      "8    CC080817-2    8/8/17           8         8  13.50          0        0   \n",
      "9    CC080817-3    8/8/17           8         8  12.91          0        0   \n",
      "10   CC051218-1   5/12/18           5        12  11.94          2        1   \n",
      "11   CC051218-2   5/12/18           5        12  13.27          0        0   \n",
      "12   CC052918-1   5/29/18           5        29  12.72          0        0   \n",
      "13   CC052918-2   5/29/18           5        29  12.84          0        1   \n",
      "14   CC060418-1    6/4/18           6         4  11.40          3        0   \n",
      "15   CC060418-2    6/4/18           6         4  13.13          0        0   \n",
      "16   CC060418-4    6/4/18           6         4  14.59          0        0   \n",
      "17   CC061418-1   6/14/18           6        14  11.61          0        0   \n",
      "18   CC061418-2   6/14/18           6        14  13.17          2        0   \n",
      "19   CC061818-2   6/18/18           6        18  12.95          2        0   \n",
      "20   CC062918-1   6/29/18           6        29  13.83          1        0   \n",
      "21   CC062918-2   6/29/18           6        29  13.65          1        0   \n",
      "22   CC062918-3   6/29/18           6        29  13.28          1        0   \n",
      "23   CC062918-4   6/29/18           6        29  13.73          2        0   \n",
      "24   CC070718-1    7/7/18           7         7  12.40          0        1   \n",
      "25   CC070718-3    7/7/18           7         7  14.28          4        0   \n",
      "26   CC072118-1   7/21/18           7        21  15.62          0        0   \n",
      "27   CC072118-3   7/21/18           7        21  15.98          1        0   \n",
      "28   CC072518-1   7/25/18           7        25  12.79          1        0   \n",
      "29   CC073118-1   7/31/18           7        31  11.55          1        0   \n",
      "30   CC073118-2   7/31/18           7        31  12.46          2        0   \n",
      "31   CC081718-1   8/17/18           8        17  14.14          0        0   \n",
      "32   CC081718-2   8/17/18           8        17  13.38          0        0   \n",
      "33   CC081718-3   8/17/18           8        17  13.18          1        0   \n",
      "34  CC051119-01   5/11/19           5        11  13.60          1        0   \n",
      "35  CC051619-01   5/16/19           5        16  14.77          2        0   \n",
      "36  CC051619-03   5/16/19           5        16  16.10          1        1   \n",
      "37  CC052519-01   5/25/19           5        25  14.20          0        0   \n",
      "38  CC052519-02   5/25/19           5        25  15.50          0        1   \n",
      "39  CC052519-03   5/25/19           5        25  15.30          0        0   \n",
      "40  CC053019-01   5/30/19           5        30  14.10          2        0   \n",
      "41  CC053019-02   5/30/19           5        30  13.50          2        0   \n",
      "42  CC053019-03   5/30/19           5        30  12.20          1        0   \n",
      "43  CC053119-02   5/31/19           5        31  13.40          1        0   \n",
      "44  CC061219-01   6/12/19           6        12  14.90          0        0   \n",
      "45  CC062619-01   6/26/19           6        26  12.20          0        2   \n",
      "46  CC071019-01   7/10/19           7        10  11.40          1        0   \n",
      "47  CC072419-01   7/24/19           7        24  13.00          1        0   \n",
      "48  CC072419-02   7/24/19           7        24  11.80          1        0   \n",
      "49  CC080119-01    8/1/19           8         1  12.70          2        0   \n",
      "50  CC080319-01    8/3/19           8         3  15.10          1        0   \n",
      "51  CC080819-01    8/8/19           8         8  13.80          2        0   \n",
      "52  CC081019-01   8/10/19           8        10  12.60          0        0   \n",
      "53  CC081019-02   8/10/19           8        10  11.80          1        0   \n",
      "54  CC081019-03   8/10/19           8        10  15.10          0        0   \n",
      "55  CC081519-01   8/15/19           8        15  11.20          0        0   \n",
      "56  CC081719-01   8/17/19           8        17  12.90          0        0   \n",
      "\n",
      "    Amylase   AST    CPK    ...  CO2    Glucose    BUN   Anion Gap    \\\n",
      "0        378    171    877  ...     24         81    13            3   \n",
      "1       1126    346   1138  ...     28        115     8            7   \n",
      "2        582    179   1061  ...     25         76    11            9   \n",
      "3        478    297    574  ...     28         73     3            2   \n",
      "4        656    182   1246  ...     21         79    14            2   \n",
      "5        702    176    455  ...     29         66     6           -2   \n",
      "6        495    186   1070  ...     27         89    17            4   \n",
      "7        305    155    229  ...     23         65    11            0   \n",
      "8        284    150    650  ...     25         73    11            4   \n",
      "9        520    160    576  ...     25         94    28            1   \n",
      "10       658    131    358  ...     14         41     9           15   \n",
      "11       973    302    377  ...     19         59     7           10   \n",
      "12       528    194   1361  ...     27         76     8            7   \n",
      "13       642    142    500  ...     13         51     9           13   \n",
      "14       709    153    700  ...     24         66     9            3   \n",
      "15       940    183    712  ...     22         80    10            7   \n",
      "16       702    580    998  ...     22         84    11           10   \n",
      "17       595    196    523  ...     24         54    10            8   \n",
      "18       839    188    141  ...     24         90     8            1   \n",
      "19       707    191   1066  ...     20         68     8            7   \n",
      "20       713    203    525  ...     20         94    10            6   \n",
      "21       490    128    200  ...     27         70     6            2   \n",
      "22       646    164    884  ...     21         76     7            6   \n",
      "23       597    169    321  ...     22         74    10            6   \n",
      "24       526    132    323  ...      6         75    10           16   \n",
      "25       593    155    617  ...     16         84    14            7   \n",
      "26       333    167    562  ...     15         81    14            7   \n",
      "27       406    192    620  ...     22         89    12            4   \n",
      "28       266    166    693  ...     26         84    28            1   \n",
      "29       341    227   1072  ...     21         70    10            2   \n",
      "30       252    148    555  ...     20         51    13            5   \n",
      "31       449    145    318  ...     22         64    13            1   \n",
      "32       452    144    319  ...     21         62    13            2   \n",
      "33       329    118   1542  ...     18         82    13            4   \n",
      "34       658    152    776  ...     19         98    17            7   \n",
      "35      1040    139    445  ...     14         90     7            5   \n",
      "36       548    131    389  ...     12        113    12           11   \n",
      "37       622    182   1319  ...     20         96     8            5   \n",
      "38       800    483    413  ...      5         89     5            3   \n",
      "39       455    151    821  ...     19         39    10           10   \n",
      "40       631    191   8512  ...      9         45    10            7   \n",
      "41       682    252   1005  ...      8         65    10           12   \n",
      "42       490    270    366  ...     16         57    12            5   \n",
      "43       585    231    703  ...     20         74    11            5   \n",
      "44       537    126    347  ...     23         83    10            5   \n",
      "45       848    139   1086  ...      5         90     8            4   \n",
      "46       546    222   1565  ...     18         95    11            3   \n",
      "47       137    147    481  ...     20         72    17           -3   \n",
      "48       351    146   5183  ...     19        100    12            4   \n",
      "49       350    173   7407  ...     14         87    15            3   \n",
      "50       310    185    820  ...     16         86    16            4   \n",
      "51       491    182   1013  ...     19         96    15           -1   \n",
      "52       367    236    258  ...     18         88     9           -1   \n",
      "53       520    190    749  ...     18         74     8            6   \n",
      "54       563    140   1057  ...     20         78    14            4   \n",
      "55       303    112    323  ...     19         83    26            5   \n",
      "56       579    130   1072  ...     16         98    16            7   \n",
      "\n",
      "    Osmolality    Phosphorus    UricAcid    Total Protein    Triglycerides   \\\n",
      "0            273           7.9         0.6              3.1              68   \n",
      "1            277          10.1         0.9              5.6            1065   \n",
      "2            267          12.5         0.7              6.2            1163   \n",
      "3            258           7.9         0.8              4.8             801   \n",
      "4            268           8.5         0.9              3.7             841   \n",
      "5            264           5.4         0.6              3.2             395   \n",
      "6            273           8.0         0.8              3.1              69   \n",
      "7            259           8.5         0.6              3.0             211   \n",
      "8            274          10.5         0.6              3.6             113   \n",
      "9            279           8.8         0.5              3.1              67   \n",
      "10           271           9.3         1.0              5.0             972   \n",
      "11           270           9.7         1.0              5.0            1647   \n",
      "12           280           9.8         0.8              5.5             870   \n",
      "13           268           8.8         0.6              4.3             527   \n",
      "14           275           8.2         0.4              3.9             529   \n",
      "15           280           8.6         0.8              5.5             851   \n",
      "16           282           8.9         0.7              5.5             940   \n",
      "17           278           9.2         0.7              4.7             563   \n",
      "18           283           8.2         0.6              4.8             837   \n",
      "19           271           9.8         0.3              4.8             730   \n",
      "20           280           6.5         0.9              4.8             998   \n",
      "21           274           5.2         0.7              4.7             959   \n",
      "22           284           9.4         0.7              4.8             907   \n",
      "23           285           9.9         0.9              4.4             441   \n",
      "24           274          10.9         0.7              4.0             891   \n",
      "25           278           9.9         0.5              4.9             196   \n",
      "26           281           8.3         0.5              3.9             118   \n",
      "27           277           7.7         0.5              3.7             129   \n",
      "28           286           5.5         0.6              4.5             214   \n",
      "29           283           8.0         0.8              4.0             181   \n",
      "30           273           8.1         0.6              3.6             182   \n",
      "31           285           8.1         0.6              3.3              90   \n",
      "32           285           8.1         0.6              3.3              90   \n",
      "33           286           7.2         0.2              3.4              72   \n",
      "34           277           7.8         0.4              5.7             569   \n",
      "35           268           9.1         0.6              4.9             562   \n",
      "36           271          17.4         0.4              7.1             509   \n",
      "37           270          12.4         0.3              6.2            1175   \n",
      "38           254           8.0         0.6              3.7            1363   \n",
      "39           266           9.7         0.3              4.3             559   \n",
      "40           259           9.7         0.2              4.9             531   \n",
      "41           269           9.0         0.5              6.6            1719   \n",
      "42           264           8.6         0.2              4.3             514   \n",
      "43           270           7.7         0.6              4.8            1455   \n",
      "44           270          10.0         0.5              4.9            1482   \n",
      "45           253          12.7         0.8              6.1            1772   \n",
      "46           268           9.2         0.2              4.3             506   \n",
      "47           278           5.2         0.3              2.9              80   \n",
      "48           280           8.6         0.4              3.7             198   \n",
      "49           278           9.8         0.2              3.6             135   \n",
      "50           280           7.6         0.2              4.4             145   \n",
      "51           273           6.6         0.2              3.9             177   \n",
      "52           289          10.6         0.5              4.4             533   \n",
      "53           280           7.4         0.3              3.9             206   \n",
      "54           285           9.8         0.4              3.2             139   \n",
      "55           285          10.0         0.2              3.1              63   \n",
      "56           285           8.2         0.4              4.0             102   \n",
      "\n",
      "    Total Protein (3.2-5.6)    (g/dl)  \n",
      "0                                 3.1  \n",
      "1                                 5.6  \n",
      "2                                 6.2  \n",
      "3                                 4.8  \n",
      "4                                 3.7  \n",
      "5                                 3.2  \n",
      "6                                 3.1  \n",
      "7                                   3  \n",
      "8                                 3.6  \n",
      "9                                 3.1  \n",
      "10                                  5  \n",
      "11                                  5  \n",
      "12                                5.5  \n",
      "13                                4.3  \n",
      "14                                3.9  \n",
      "15                                5.5  \n",
      "16                                5.5  \n",
      "17                                4.7  \n",
      "18                                4.8  \n",
      "19                                4.8  \n",
      "20                                4.8  \n",
      "21                                4.7  \n",
      "22                                4.8  \n",
      "23                                4.4  \n",
      "24                                  4  \n",
      "25                                4.9  \n",
      "26                                3.9  \n",
      "27                                3.7  \n",
      "28                                4.5  \n",
      "29                                  4  \n",
      "30                                3.6  \n",
      "31                                4.5  \n",
      "32                                3.2  \n",
      "33                                3,8  \n",
      "34                                5.7  \n",
      "35                                4.9  \n",
      "36                                7.1  \n",
      "37                                6.2  \n",
      "38                                3.7  \n",
      "39                                4.3  \n",
      "40                                4.9  \n",
      "41                                6.6  \n",
      "42                                4.3  \n",
      "43                                4.8  \n",
      "44                                4.9  \n",
      "45                                6.1  \n",
      "46                                4.3  \n",
      "47                                2.9  \n",
      "48                                3.7  \n",
      "49                                3.6  \n",
      "50                                4.4  \n",
      "51                                3.9  \n",
      "52                                4.4  \n",
      "53                                3.9  \n",
      "54                                3.9  \n",
      "55                                3.1  \n",
      "56                                  4  \n",
      "\n",
      "[57 rows x 26 columns]\n"
     ]
    }
   ],
   "source": [
    "print(df)\n"
   ]
  },
  {
   "cell_type": "code",
   "execution_count": 7,
   "metadata": {},
   "outputs": [
    {
     "data": {
      "image/png": "[encoded data removed]",
      "text/plain": [
       "<Figure size 432x288 with 1 Axes>"
      ]
     },
     "metadata": {
      "needs_background": "light"
     },
     "output_type": "display_data"
    }
   ],
   "source": [
    "plt.scatter(df['Glucose  '], df[' BMI'],  color='red')  \n",
    "plt.title('glucose vs BMI', fontsize=14)\n",
    "plt.xlabel('glucose', fontsize=14)\n",
    "plt.ylabel('BMI', fontsize=14)\n",
    "plt.grid(True)\n",
    "plt.show()"
   ]
  },
  {
   "cell_type": "code",
   "execution_count": 25,
   "metadata": {},
   "outputs": [
    {
     "data": {
      "image/png": "[encoded data removed]",
      "text/plain": [
       "<Figure size 432x288 with 1 Axes>"
      ]
     },
     "metadata": {
      "needs_background": "light"
     },
     "output_type": "display_data"
    }
   ],
   "source": [
    "plt.scatter(df['Cholesterol  '], df[' BMI'], color='blue')\n",
    "plt.title('Cholesterol vs BMI', fontsize=14)\n",
    "plt.xlabel('cholesterol', fontsize=14)\n",
    "plt.ylabel('BMI', fontsize=14)\n",
    "plt.grid(True)\n",
    "plt.show()"
   ]
  },
  {
   "cell_type": "code",
   "execution_count": 23,
   "metadata": {},
   "outputs": [
    {
     "data": {
      "image/png": "[encoded data removed]",
      "text/plain": [
       "<Figure size 432x288 with 1 Axes>"
      ]
     },
     "metadata": {
      "needs_background": "light"
     },
     "output_type": "display_data"
    }
   ],
   "source": [
    "plt.scatter(df['UricAcid  '], df[' BMI'], color='orange')\n",
    "plt.title('uric acid vs BMI', fontsize=14)\n",
    "plt.xlabel('uric acid', fontsize=14)\n",
    "plt.ylabel('BMI', fontsize=14)\n",
    "plt.grid(True)\n",
    "plt.show()"
   ]
  },
  {
   "cell_type": "code",
   "execution_count": 24,
   "metadata": {},
   "outputs": [
    {
     "data": {
      "image/png": "[encoded data removed]",
      "text/plain": [
       "<Figure size 432x288 with 1 Axes>"
      ]
     },
     "metadata": {
      "needs_background": "light"
     },
     "output_type": "display_data"
    }
   ],
   "source": [
    "plt.scatter(df['Triglycerides '], df[' BMI'], color='blue')\n",
    "plt.title('triglycerides vs BMI', fontsize=14)\n",
    "plt.xlabel('triglycerides', fontsize=14)\n",
    "plt.ylabel('BMI', fontsize=14)\n",
    "plt.grid(True)\n",
    "plt.show()"
   ]
  },
  {
   "cell_type": "code",
   "execution_count": 11,
   "metadata": {},
   "outputs": [],
   "source": [
    "from sklearn import linear_model\n",
    "import statsmodels.api as sm"
   ]
  },
  {
   "cell_type": "code",
   "execution_count": 12,
   "metadata": {},
   "outputs": [],
   "source": [
    "X = df[['Glucose  ','Cholesterol  ', 'UricAcid  ','Triglycerides ' ]]\n",
    "Y = df[' BMI']"
   ]
  },
  {
   "cell_type": "code",
   "execution_count": 13,
   "metadata": {},
   "outputs": [
    {
     "data": {
      "text/plain": [
       "LinearRegression(copy_X=True, fit_intercept=True, n_jobs=None, normalize=False)"
      ]
     },
     "execution_count": 13,
     "metadata": {},
     "output_type": "execute_result"
    }
   ],
   "source": [
    "regr = linear_model.LinearRegression()\n",
    "regr.fit(X, Y)"
   ]
  },
  {
   "cell_type": "code",
   "execution_count": 14,
   "metadata": {},
   "outputs": [
    {
     "name": "stdout",
     "output_type": "stream",
     "text": [
      "Intercept: \n",
      " 12.026211876296454\n",
      "Coefficients: \n",
      " [ 1.13132452e-02  2.91795113e-03 -2.07104625e-01  1.11754988e-04]\n"
     ]
    }
   ],
   "source": [
    "print('Intercept: \\n', regr.intercept_)\n",
    "print('Coefficients: \\n', regr.coef_)\n",
    "\n"
   ]
  },
  {
   "cell_type": "code",
   "execution_count": 15,
   "metadata": {},
   "outputs": [
    {
     "name": "stdout",
     "output_type": "stream",
     "text": [
      "                            OLS Regression Results                            \n",
      "==============================================================================\n",
      "Dep. Variable:                    BMI   R-squared:                       0.060\n",
      "Model:                            OLS   Adj. R-squared:                 -0.012\n",
      "Method:                 Least Squares   F-statistic:                    0.8342\n",
      "Date:                Sat, 08 Aug 2020   Prob (F-statistic):              0.510\n",
      "Time:                        22:16:23   Log-Likelihood:                -93.159\n",
      "No. Observations:                  57   AIC:                             196.3\n",
      "Df Residuals:                      52   BIC:                             206.5\n",
      "Df Model:                           4                                         \n",
      "Covariance Type:            nonrobust                                         \n",
      "==================================================================================\n",
      "                     coef    std err          t      P>|t|      [0.025      0.975]\n",
      "----------------------------------------------------------------------------------\n",
      "const             12.0262      0.998     12.055      0.000      10.024      14.028\n",
      "Glucose            0.0113      0.012      0.935      0.354      -0.013       0.036\n",
      "Cholesterol        0.0029      0.004      0.758      0.452      -0.005       0.011\n",
      "UricAcid          -0.2071      0.851     -0.243      0.809      -1.915       1.501\n",
      "Triglycerides      0.0001      0.000      0.232      0.817      -0.001       0.001\n",
      "==============================================================================\n",
      "Omnibus:                        3.193   Durbin-Watson:                   1.705\n",
      "Prob(Omnibus):                  0.203   Jarque-Bera (JB):                2.793\n",
      "Skew:                           0.542   Prob(JB):                        0.247\n",
      "Kurtosis:                       2.952   Cond. No.                     5.06e+03\n",
      "==============================================================================\n",
      "\n",
      "Warnings:\n",
      "[1] Standard Errors assume that the covariance matrix of the errors is correctly specified.\n",
      "[2] The condition number is large, 5.06e+03. This might indicate that there are\n",
      "strong multicollinearity or other numerical problems.\n"
     ]
    },
    {
     "name": "stderr",
     "output_type": "stream",
     "text": [
      "/Users/vivianhernandez/anaconda3/lib/python3.7/site-packages/numpy/core/fromnumeric.py:2389: FutureWarning: Method .ptp is deprecated and will be removed in a future version. Use numpy.ptp instead.\n",
      "  return ptp(axis=axis, out=out, **kwargs)\n"
     ]
    }
   ],
   "source": [
    "# with statsmodels\n",
    "X = sm.add_constant(X) # adding a constant\n",
    " \n",
    "model = sm.OLS(Y, X).fit()\n",
    "predictions = model.predict(X) \n",
    " \n",
    "print_model = model.summary()\n",
    "print(print_model)"
   ]
  },
  {
   "cell_type": "code",
   "execution_count": 21,
   "metadata": {},
   "outputs": [],
   "source": [
    "Z = df[['Glucose  ','Cholesterol  ' ]]\n",
    " "
   ]
  },
  {
   "cell_type": "code",
   "execution_count": 22,
   "metadata": {},
   "outputs": [
    {
     "name": "stdout",
     "output_type": "stream",
     "text": [
      "                            OLS Regression Results                            \n",
      "==============================================================================\n",
      "Dep. Variable:                    BMI   R-squared:                       0.059\n",
      "Model:                            OLS   Adj. R-squared:                  0.024\n",
      "Method:                 Least Squares   F-statistic:                     1.686\n",
      "Date:                Sat, 08 Aug 2020   Prob (F-statistic):              0.195\n",
      "Time:                        22:24:05   Log-Likelihood:                -93.205\n",
      "No. Observations:                  57   AIC:                             192.4\n",
      "Df Residuals:                      54   BIC:                             198.5\n",
      "Df Model:                           2                                         \n",
      "Covariance Type:            nonrobust                                         \n",
      "=================================================================================\n",
      "                    coef    std err          t      P>|t|      [0.025      0.975]\n",
      "---------------------------------------------------------------------------------\n",
      "const            11.9325      0.869     13.736      0.000      10.191      13.674\n",
      "Glucose           0.0110      0.011      0.974      0.334      -0.012       0.034\n",
      "Cholesterol       0.0033      0.003      1.075      0.287      -0.003       0.009\n",
      "==============================================================================\n",
      "Omnibus:                        3.313   Durbin-Watson:                   1.693\n",
      "Prob(Omnibus):                  0.191   Jarque-Bera (JB):                2.945\n",
      "Skew:                           0.556   Prob(JB):                        0.229\n",
      "Kurtosis:                       2.928   Cond. No.                     1.10e+03\n",
      "==============================================================================\n",
      "\n",
      "Warnings:\n",
      "[1] Standard Errors assume that the covariance matrix of the errors is correctly specified.\n",
      "[2] The condition number is large, 1.1e+03. This might indicate that there are\n",
      "strong multicollinearity or other numerical problems.\n"
     ]
    }
   ],
   "source": [
    "# with statsmodels\n",
    "Z = sm.add_constant(Z) # adding a constant\n",
    " \n",
    "model2 = sm.OLS(Y, Z).fit()\n",
    "predictions = model2.predict(Z) \n",
    " \n",
    "print_model = model2.summary()\n",
    "print(print_model)"
   ]
  },
  {
   "cell_type": "code",
   "execution_count": null,
   "metadata": {},
   "outputs": [],
   "source": []
  }
 ],
 "metadata": {
  "kernelspec": {
   "display_name": "Python 3",
   "language": "python",
   "name": "python3"
  },
  "language_info": {
   "codemirror_mode": {
    "name": "ipython",
    "version": 3
   },
   "file_extension": ".py",
   "mimetype": "text/x-python",
   "name": "python",
   "nbconvert_exporter": "python",
   "pygments_lexer": "ipython3",
   "version": "3.7.3"
  }
 },
 "nbformat": 4,
 "nbformat_minor": 2
}
